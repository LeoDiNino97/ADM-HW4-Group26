{
 "cells": [
  {
   "cell_type": "code",
   "execution_count": 2,
   "metadata": {},
   "outputs": [],
   "source": [
    "def security(gates: int, students: int, guards: int, ordered_entrances: list) -> str:\n",
    "    assigned_guards = []\n",
    "\n",
    "    flag = guards\n",
    "    idx = 0\n",
    "    warning = []\n",
    "    while len(assigned_guards) < guards:\n",
    "        if ordered_entrances[idx] not in assigned_guards:\n",
    "            assigned_guards.append(ordered_entrances[idx])\n",
    "        idx += 1\n",
    "\n",
    "    for position in range(idx, len(ordered_entrances)):\n",
    "        if ordered_entrances[position] not in assigned_guards:\n",
    "            warning = ordered_entrances[position:]\n",
    "            break\n",
    "    \n",
    "    for entrance in warning:\n",
    "        if entrance in assigned_guards:\n",
    "            flag -= 1\n",
    "\n",
    "    if flag > 0:\n",
    "        return 'YES'\n",
    "    else:\n",
    "        return 'NO'"
   ]
  },
  {
   "cell_type": "code",
   "execution_count": 3,
   "metadata": {},
   "outputs": [
    {
     "data": {
      "text/plain": [
       "'NO'"
      ]
     },
     "execution_count": 3,
     "metadata": {},
     "output_type": "execute_result"
    }
   ],
   "source": [
    "security(4,7,2,[1,2,3,2,2,3,1])"
   ]
  },
  {
   "cell_type": "code",
   "execution_count": null,
   "metadata": {},
   "outputs": [],
   "source": []
  }
 ],
 "metadata": {
  "kernelspec": {
   "display_name": "Python 3.10.7 64-bit",
   "language": "python",
   "name": "python3"
  },
  "language_info": {
   "codemirror_mode": {
    "name": "ipython",
    "version": 3
   },
   "file_extension": ".py",
   "mimetype": "text/x-python",
   "name": "python",
   "nbconvert_exporter": "python",
   "pygments_lexer": "ipython3",
   "version": "3.10.7"
  },
  "orig_nbformat": 4,
  "vscode": {
   "interpreter": {
    "hash": "38cdd751ff1a78921eff5cc54f687db2b577836ff9e523662c7eedaeda872ff5"
   }
  }
 },
 "nbformat": 4,
 "nbformat_minor": 2
}
